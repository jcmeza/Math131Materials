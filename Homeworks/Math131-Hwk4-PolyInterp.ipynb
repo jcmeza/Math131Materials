{
 "cells": [
  {
   "cell_type": "markdown",
   "id": "97603487-71f7-4b1b-9b2d-19c628e0ec91",
   "metadata": {
    "tags": []
   },
   "source": [
    "# Math 131 Homework 4: Polynomial Interpolation\n",
    "\n",
    "As we discussed in class, Lagrange polynomial interpolation using barycentric weights offers many advantages including being one of the more stable algorithms for interpolation\n",
    "\n",
    "This homework asks you to provide code to compute the weights, create a Lagrange polynomial and apply it to the 2 functions provided.\n"
   ]
  },
  {
   "cell_type": "markdown",
   "id": "35d776cf-8814-44b6-950f-3af83992595c",
   "metadata": {},
   "source": [
    "## Statement of the problem\n",
    "\n",
    "**a.** Implement a function CompBaryWeights that takes a vector $X = (x_0, x_1, ..., x_n)$  as input and computes the barycentric weights (as defined in class and in the lecture notes) for the Lagrange Polynomial form. The function should return the vector of weights in $ w= (w_0, w_1, \\ldots w_n ).$\n",
    "\n",
    "The header of the function should be:\n",
    "\n",
    "def CompBaryWeights(X):\n",
    "\n",
    "Note that a vector of the function values $Y = (y_0, y_1, ...y_n)$ is not required during the construction of the Lagrange polynomial at this step.\n",
    "\n",
    "**b.** Implement a program that takes the vectors $X = (x_0, x_1, \\ldots, x_n), Y = (y_0, y_1, \\ldots, y_n),$  the $w= (w_0, w_1, \\ldots w_n )$ vector from part (a), and a vector $Z = (z_0, z_1, \\ldots, z_m)$ containing points at which to evaluate the polynomial. The program should return a vector containing the values of the interpolating polynomial at each of the points in $Z$, in other words, $P_n(Z) = (P_n(z_0), P_n(z_1), ..., P_n(z_m))$. Note that $n$ need not necessarily equal $m$. "
   ]
  },
  {
   "cell_type": "markdown",
   "id": "033126d3-1872-4ffd-81fe-b69c44dddcf3",
   "metadata": {},
   "source": [
    "The first step is to load the required python libraries"
   ]
  },
  {
   "cell_type": "code",
   "execution_count": null,
   "id": "1d7d84af-7b8c-4769-bf0a-2df95d6e4379",
   "metadata": {},
   "outputs": [],
   "source": [
    "# Setup numpy environment\n",
    "import numpy as np\n",
    "import matplotlib.pyplot as plt\n"
   ]
  },
  {
   "cell_type": "markdown",
   "id": "b5b00427-9dbe-4143-849a-3bedd8e213d6",
   "metadata": {},
   "source": [
    "As discussed in class, the implementation of an interpolating polynomial is done in 2 steps: 1) construction of the polynomial, and 2) evaluation of the polynomial at some desired points. Let's first consider the construction."
   ]
  },
  {
   "cell_type": "markdown",
   "id": "ffe0688a-7c41-4584-ad17-ad06c4b03a1f",
   "metadata": {},
   "source": [
    "## (a) Construction Function\n",
    "\n",
    "To simplify notation, we define the following terms:\n",
    "\n",
    "$$\n",
    "\\begin{aligned}\n",
    "\\rho_j &= \\prod_{i \\neq j}^{n} {x_j - x_i} \\quad j=0,1, \\ldots, n \\\\\n",
    "w_j &= \\frac{1}{\\rho_j},\n",
    "\\end{aligned}\n",
    "$$ where the $w_j$ are called the barycentric weights. ([@berrut2004])\n",
    "\n",
    "***Remark:*** Having computed these weights that's it for construction!\n",
    "\n",
    "Let's define a function that computes the barycentric weights using the above formula."
   ]
  },
  {
   "cell_type": "code",
   "execution_count": null,
   "id": "04a7a44a-8944-473c-8ec0-31c6e3e73647",
   "metadata": {},
   "outputs": [],
   "source": [
    "def CompBaryWeights(X):\n",
    "    \"\"\"\n",
    "    Compute the barycentric weights used in Lagrange Interpolation\n",
    "    Takes 1 input parameter X containing the nodal points\n",
    "    Returns the barycentric weights in vector w\n",
    "    \"\"\"\n",
    "#\n",
    "#-----------------------\n",
    "\n",
    "#-------------------------\n",
    "    return w"
   ]
  },
  {
   "cell_type": "markdown",
   "id": "1f629398-2873-4015-8020-a271ca8361c5",
   "metadata": {},
   "source": [
    "## (b) Evaluation\n",
    "\n",
    "As discussed in class, we can write the interpolating polynomial as:\n",
    "\n",
    "$$\n",
    "p_n(x) = \\Psi(x) \\sum_{j=0}^n \\frac{w_j\\cdot y_j}{(x - x_j)}.\n",
    "$$\n",
    "where\n",
    "$$\n",
    "\\begin{aligned}\n",
    "\\Psi(x) &= (x - x_0)(x - x_1)  \\cdots (x - x_n) \\\\\n",
    "&= \\prod_{i=0}^{n} {(x - x_i)}\n",
    "\\end{aligned} \n",
    "$$\n",
    "\n",
    "Once we have computed the weights for a given set of $x$ values, we can use them for any function whatsoever (as long as we know values at those nodes). This also means that since we never assumed any order of the nodes, the weights are independent of the order that the nodes are in. Based on this, it is not hard to show that the above equation can be re-written in the more elegant form of:\n",
    "\n",
    "$$\n",
    "p_n(x) = \\frac{\\sum_{j=0}^n \\frac{w_j\\cdot y_j}{(x - x_j)}}{\\sum_{j=0}^n \\frac{w_j}{(x - x_j)}}.\n",
    "$$\n",
    "\n",
    "where the term $\\Psi(x)$ has been eliminated.\n",
    "\n",
    "You may use either formulation."
   ]
  },
  {
   "cell_type": "code",
   "execution_count": null,
   "id": "d93d3ed5-03e6-43e8-ba06-d0d4d5adf3f1",
   "metadata": {},
   "outputs": [],
   "source": [
    "def EvalLagr(Z, X, Y, w):\n",
    "    \"\"\"\n",
    "    Evaluate the Lagrange Polynomial using the barycentric weights\n",
    "    Takes 4 input parameters\n",
    "        Z array containing the points at which to evaluate the polynomial\n",
    "        X containing the nodal points\n",
    "        Y containing the function value at X\n",
    "        w barycentric weights\n",
    "    Returns the interpolating polynomial evaluated at the points Z. \n",
    "    \"\"\"\n",
    "#\n",
    "#-----------------------    \n",
    "\n",
    "#-------------------------\n",
    "    return PnZ"
   ]
  },
  {
   "cell_type": "markdown",
   "id": "3b37fffa-689b-4218-afa2-69c1504842fc",
   "metadata": {},
   "source": [
    "### (c) Compute Polynomial Interpolating Error \n",
    "\n",
    "Using the programs you wrote in part (a,b), graph $f(x), P_n(x)$ and the absolute error in approximation over the intervals given. Use the provided program LagrInterpPolyError.ipynb to plot the values of the function $f (x)$ along with the values of an interpolating polynomial $P_n(x)$ and the absolute error $| f (x) - P_n(x) |$ on an interval $[x_0, x_n]$ using the particular function $f (x)$ and values $x_0, x_n, N = n+1$ interpolation nodes given below. The file will contain placeholders for the calls to  the two functions you will write in (a) and (b).\n",
    "\n",
    "\n",
    "$$f(x) = \\frac{e^{0.01x} \\cdot \\sin(17x^2)}{ (1 + 25x^2)}, \\quad 0 \\leq x \\leq 1, \\quad N=5,10,20 \\tag{1}$$ \n",
    "$$f(x) = \\frac{1}{1 + 25x^2},  \\quad -1 \\leq x \\leq 1, \\quad N=10,20,40 \\tag{2}$$\n"
   ]
  },
  {
   "cell_type": "markdown",
   "id": "18dae06b-273a-4266-b7a5-359f838a6adc",
   "metadata": {},
   "source": [
    "## Define the functions (1) and (2) to interpolate/approximate\n",
    "\n",
    "Step 1 is to define the functions we would like to approximate"
   ]
  },
  {
   "cell_type": "code",
   "execution_count": null,
   "id": "5c81f7b9-9b29-4b95-a0ff-47744a72feb4",
   "metadata": {},
   "outputs": [],
   "source": [
    "# If you're not sure what the function should look like, it's sometimes useful\n",
    "# to write one that you do know that can be used to test out the other parts of the code\n",
    "# Here's one simple example.\n",
    "def ftest(x):\n",
    "    return x**2\n",
    "\n",
    "# define functions for homework assignment\n",
    "#-----------------------    \n",
    "\n",
    "#-------------------------"
   ]
  },
  {
   "cell_type": "markdown",
   "id": "e4e60d93-92f3-4841-88b0-4c3ef4accdd5",
   "metadata": {
    "tags": []
   },
   "source": [
    "## Debug/Test the functions\n",
    "\n",
    "It's always a good idea to test the functions to see if they do what they should be doing. Here all we do is call them with appropriate values and plot the results. \n",
    "\n",
    "This step is not absolutely necessary, but when debugging later code, it's nice to have some faith that you're actually solving the correct problem."
   ]
  },
  {
   "cell_type": "code",
   "execution_count": null,
   "id": "7b19dca3-29b0-482f-9a7a-b8ed08a5c7d6",
   "metadata": {},
   "outputs": [],
   "source": [
    "    Z = np.linspace(0, 1, num=200)\n",
    "    fZ = ftest(Z)\n",
    "    plt.plot(Z,fZ)\n",
    "    plt.title('f(x) ')"
   ]
  },
  {
   "cell_type": "markdown",
   "id": "ebbbd8b3-b988-432b-ade3-655142f46770",
   "metadata": {},
   "source": [
    "# Putting it all together\n",
    "\n",
    "If the previous step looks good, we're ready to pull all of the parts together, using the code provided to you. You should be able to just run it and it will call the functions you've written to construct and evaluate the Lagrange interpolating polynomials. ***It is highly recommended that you do not change any code in this function!***\n",
    "\n",
    "If all goes well, you should see 2 plots. The first plot will contain the function plotted versus the interpolating polynomial at 200 points uniformly spaced within the chosen interval.  The second plot will contain the absolute error e = |f(z) - Pn(Z)| on the same interval."
   ]
  },
  {
   "cell_type": "code",
   "execution_count": null,
   "id": "14839b79-0cb7-4a50-9a01-a43c31c2b581",
   "metadata": {},
   "outputs": [],
   "source": [
    "def LagrInterpPolyError(fname, x0, xn, N):\n",
    "    \"\"\"\n",
    "    LagrInterpPolyError - \n",
    "    fname - function name to interpolate\n",
    "    x0    - left end of the interval/domain\n",
    "    xn    - right end of the interval/domain\n",
    "    N     - number of interpolation points\n",
    "\n",
    "    This function requires two other functions, which you must write:\n",
    "    \n",
    "    CompBaryWeights(X) - computes the barycentric weights (w) \n",
    "                         given a set of node points X\n",
    "    EvalLagr(Z,X,Y,W)  - evaluates the interpolating polynomial at points Z\n",
    "                         defined by the barycentric weights returned by CompBaryWeights\n",
    "                         and the set of nodes (X,Y)\n",
    "    \"\"\"\n",
    "    \n",
    "# Required libraries\n",
    "    import matplotlib.pyplot as plt\n",
    "\n",
    "#   Set up the points at which to evaluate the function (Z) as well as\n",
    "#   the interpolating (node) points (X)\n",
    "#   Evaluate the function at both sets of points\n",
    "\n",
    "    Z = np.linspace(x0, xn, num=200)\n",
    "    fZ = fname(Z)\n",
    "\n",
    "    X = np.linspace(x0, xn, N)\n",
    "    Y = fname(X)\n",
    "\n",
    "#   Compute the Barycentric Weights\n",
    "    w = CompBaryWeights(X)\n",
    "\n",
    "#   Evaluate the interpolating polynomial\n",
    "    PnZ = EvalLagr(Z, X, Y, w)\n",
    "\n",
    "#   Compute the error -  Note the use of absolute rather than relative since \n",
    "#   some of the values might be = 0\n",
    "\n",
    "    abserr = abs(fZ - PnZ)\n",
    "\n",
    "#\n",
    "#   Do Not Modify below here\n",
    "#--------------------------------------------------------------------\n",
    "#\n",
    "#   Plot the results\n",
    "\n",
    "#   Step 1. Set some parameters to make the plots look a little nicer\n",
    "    params = {\n",
    "        'axes.titlesize': 14,\n",
    "        'axes.labelsize': 12,\n",
    "        'axes.titleweight': 'bold'}\n",
    "    plt.rcParams.update(params)\n",
    "\n",
    "# Step 2. Plot the function and the interpolating polynomial\n",
    "    plt.style.use('ggplot')\n",
    "    plt.plot(Z, PnZ, '.', label=\"P_n(Z)\")\n",
    "    plt.plot(Z, fZ, label=\"f(Z)\")\n",
    "\n",
    "    plt.xlabel('Z')\n",
    "    plt.ylabel('f(Z), Pn(Z)')\n",
    "    texttitle = \"f(z) and Pn(z), N = %d\" % N\n",
    "    plt.title(texttitle)\n",
    "    plt.legend()\n",
    "    plt.show()\n",
    "\n",
    "# Step 3. Plot the absolute error\n",
    "\n",
    "    plt.plot(Z, abserr)\n",
    "    plt.xlabel('Z')\n",
    "    plt.ylabel('|f(Z) - Pn(Z)|')\n",
    "    plt.title('Absolute Error = |f(z) - Pn(z)|')\n",
    "\n",
    "    plt.show()\n",
    "\n",
    "    return X, Z, fZ, PnZ"
   ]
  },
  {
   "cell_type": "markdown",
   "id": "1ac2eab6-c1fc-4beb-9853-d897aa0e9563",
   "metadata": {},
   "source": [
    "## Call LagrInterPolyErr\n",
    "\n",
    "Call LagrInterpPolyErr using first function on [0,1] using 5, 10, 20 interpolation points.  This will plot the original function, the polynomial interpolant, and the absolute error over the domain."
   ]
  },
  {
   "cell_type": "markdown",
   "id": "4d3a9dff-b433-4035-a48d-4b5bd801316e",
   "metadata": {},
   "source": [
    "### Sample Call, N = 5, First function"
   ]
  },
  {
   "cell_type": "code",
   "execution_count": null,
   "id": "3eca5397-0231-40b1-8025-39c9f82c5b7e",
   "metadata": {},
   "outputs": [],
   "source": [
    "import numpy as np\n",
    "import matplotlib.pyplot as plt\n",
    "\n",
    "x0 = 0.0\n",
    "xn = 1.0\n",
    "\n",
    "N  = 5\n",
    "X, Z, fZ, PnZ = LagrInterpPolyError(ftest, x0, xn, N)"
   ]
  },
  {
   "cell_type": "markdown",
   "id": "a68b8237-2c5c-4b2e-8f52-1ef60c455b24",
   "metadata": {},
   "source": [
    "### N = 10, First Function"
   ]
  },
  {
   "cell_type": "markdown",
   "id": "1f22ac03-b64a-4a58-9cbd-091daa025b6a",
   "metadata": {},
   "source": [
    "### N = 20, First Function"
   ]
  },
  {
   "cell_type": "markdown",
   "id": "e8d47c70-557a-4d05-9684-b04c55b9fbd7",
   "metadata": {},
   "source": [
    "## Runge Function\n",
    "\n",
    "Call LagrInterpPolyErr using Runge function on [-1,1] using 10,20,40 interpolation points"
   ]
  },
  {
   "cell_type": "markdown",
   "id": "09bd83ff-1599-4e2f-b397-2d4260a8dc96",
   "metadata": {},
   "source": [
    "### N = 10, Runge function"
   ]
  },
  {
   "cell_type": "markdown",
   "id": "935b5026-f337-4df0-a3b5-6ab1d0bbd2e7",
   "metadata": {},
   "source": [
    "### N = 20, Runge function"
   ]
  },
  {
   "cell_type": "markdown",
   "id": "64642acc-de67-4594-8969-5019bde4d7d1",
   "metadata": {},
   "source": [
    "### N = 40, Runge function"
   ]
  },
  {
   "cell_type": "markdown",
   "id": "d4ce0b06-4d70-4c93-81e3-59d8b9a9dae2",
   "metadata": {},
   "source": [
    "# Error Analysis\n",
    "\n",
    "Based on the plots you obtained explain the behavior of the error as $N$ increases and provide an explanation for the difference between the errors in approximating functions in (1) and (2). Be thorough and justify all your conclusions.\n",
    "\n",
    "You may use (and modify) the following code to compile everything into one dataframe for easier viewing of the numerical results. This is just to get you started with a few ideas on how to assemble the numerical results."
   ]
  },
  {
   "cell_type": "code",
   "execution_count": null,
   "id": "2d5699cd-4329-4c3d-8d59-2e7fda7b7e29",
   "metadata": {},
   "outputs": [],
   "source": [
    "#   First create tables for easier handling of the data\n",
    "#   This requires the pandas libraries\n",
    "import pandas as pd\n",
    "\n",
    "# fZ     - a numpy array that contains the evaluation of your function over some region\n",
    "# PnZ    - a numpy array that contains the evaluation of your \n",
    "#          polynomial (for some value of $N$) over the same region\n",
    "# abserr - the absolute error between fZ and PnZ\n",
    "\n",
    "abserr = abs(fZ-PnZ)\n",
    "table = np.column_stack((Z, fZ, PnZ, abserr))\n",
    "table = pd.DataFrame(table, columns=['Z', 'fZ', 'PnZ', 'abserr'])\n",
    "table"
   ]
  },
  {
   "cell_type": "markdown",
   "id": "bc6453a5-4aac-43e7-ae89-79acd689970c",
   "metadata": {},
   "source": [
    "# Analyze the table of results and look for patterns\n",
    "\n",
    "Insert your discussion here.\n"
   ]
  },
  {
   "cell_type": "markdown",
   "id": "a4d8454d-2a19-4f8e-8cbf-63a767b16db0",
   "metadata": {},
   "source": [
    "### Time Stamp"
   ]
  },
  {
   "cell_type": "code",
   "execution_count": null,
   "id": "455f3408-86fc-4ecd-8478-f960c24e211f",
   "metadata": {},
   "outputs": [],
   "source": [
    "# Last Modified\n",
    "import datetime as dt\n",
    "\n",
    "dt.datetime.today().strftime(\"Last modified: %m/%d/%Y\")"
   ]
  }
 ],
 "metadata": {
  "kernelspec": {
   "display_name": "Python 3 (ipykernel)",
   "language": "python",
   "name": "python3"
  },
  "language_info": {
   "codemirror_mode": {
    "name": "ipython",
    "version": 3
   },
   "file_extension": ".py",
   "mimetype": "text/x-python",
   "name": "python",
   "nbconvert_exporter": "python",
   "pygments_lexer": "ipython3",
   "version": "3.11.5"
  }
 },
 "nbformat": 4,
 "nbformat_minor": 5
}
