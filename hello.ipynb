{
 "cells": [
  {
   "cell_type": "raw",
   "id": "1e00c4da-1ec9-4402-a28b-6ad4b241b3a8",
   "metadata": {},
   "source": []
  },
  {
   "cell_type": "markdown",
   "id": "be1211aa-1dd4-4b76-9494-206ebe873067",
   "metadata": {
    "tags": []
   },
   "source": [
    "# Math 131 Homework 1 - Hello\n",
    "\n",
    "## Goals\n",
    "\n",
    "1. Introduce JupyterLab\n",
    "2. Provide example of a python notebook\n",
    "3. Ensure you can access and submit codes correctly.\n",
    "\n",
    "Author: J.C. Meza (jcmeza@ucmerced.edu)\n",
    "Date: 01/22/2024\n",
    "UC Merced\n",
    "Version 1.0\n"
   ]
  },
  {
   "cell_type": "markdown",
   "id": "8776c2d1-722b-4e14-8b78-4b3f50f45bd4",
   "metadata": {},
   "source": [
    "## Introduction\n",
    "\n",
    "If you've gotten this far, you should be able to access this python notebook and it will have opened up in a browser of your choosing.\n",
    "\n",
    "As a reference, you should go to:https://ucmerced.2i2c.cloud/\n",
    "\n",
    "Additional information for starting off with the UCM JupyterLab Hub can also be found at: https://ucmerced.github.io/hpc_docs/#/jupyterhub"
   ]
  },
  {
   "cell_type": "markdown",
   "id": "bd9aaf21-79a9-4fd5-b6c1-eeb1da4c044a",
   "metadata": {},
   "source": [
    "For most of our codes you will need to be able to access several python libraries that will provide some essential features needed for numerical analysis.  The following snippets of code will come in handy and I suggest you copy/paste them into your homeworks."
   ]
  },
  {
   "cell_type": "code",
   "execution_count": 20,
   "id": "704bcb62-111c-4bf8-96e6-ab8d97f94f07",
   "metadata": {},
   "outputs": [],
   "source": [
    "# Some general python libs\n",
    "\n",
    "import numpy as np\n",
    "import matplotlib.pyplot as plt\n",
    "import pandas as pd"
   ]
  },
  {
   "cell_type": "markdown",
   "id": "c44a097c-349e-42bd-ac37-27798f7618ce",
   "metadata": {},
   "source": [
    "## Functions\n",
    "\n",
    "For many of the Math 131 assignments you will be given a function or functions to work with and analyze.  The first order of business is therefore to write python code that defines those functions.\n",
    "\n",
    "Luckily, defining functions in python is fairly easy.  The following example shows how to define the function given by:\n",
    "$$ x^2 + \\sin(5x)$$ on the interval $[0,2\\pi]$\n"
   ]
  },
  {
   "cell_type": "code",
   "execution_count": 21,
   "id": "7358a609-d439-4dbd-b1f1-0b20e46739fa",
   "metadata": {},
   "outputs": [],
   "source": [
    "# Initialize\n",
    "# Function for evaluation of f(x)\n",
    "def fcnx(x):\n",
    "    \"\"\"\n",
    "    test function\n",
    "    x      input value for f(x)\n",
    "    fvalue output value for f(x)\n",
    "    \"\"\"\n",
    "    fvalue = x**2 + np.sin(5*x) \n",
    "    return fvalue"
   ]
  },
  {
   "cell_type": "markdown",
   "id": "a3a894f9-ee1a-439e-b96c-3d5efa7ce0c0",
   "metadata": {},
   "source": [
    "Note the use of the keyword **def** that tells python you are defining something, in this case a function. You can give the function any name you want, here we've chosen the rather undescriptive name of **fcnx**. In order to call the function with a value (say for example $\\pi/4$) all you need to do is type in the name of the function with an appropriate value."
   ]
  },
  {
   "cell_type": "code",
   "execution_count": 22,
   "id": "bdf227ab-9ec1-4379-9c45-6292603f767f",
   "metadata": {},
   "outputs": [
    {
     "name": "stdout",
     "output_type": "stream",
     "text": [
      "-0.09025650611846259\n"
     ]
    }
   ],
   "source": [
    "x = np.pi/4\n",
    "fvalue = fcnx(x)\n",
    "print(fvalue)"
   ]
  },
  {
   "cell_type": "markdown",
   "id": "8c996be5-fa2f-49a1-8415-0e087c1b697e",
   "metadata": {},
   "source": [
    "Notice that the call to the function does not by itself print out the value of the function - rather we have to also include a print statement so that we see the value returned. Clearly, we can make these as complicated as we need, but this gives you the general idea."
   ]
  },
  {
   "cell_type": "markdown",
   "id": "eb191887-9447-4c39-a6b8-8a8135376f03",
   "metadata": {},
   "source": [
    "## Range of numbers\n",
    "\n",
    "While calling a function with a single value is sometimes used, we will have many instances of calling a function with a range of values.  In python this is easy as you can give your functions an array of values and it will (usually) work the same as with a single value. This makes our coding job easier.\n",
    "\n",
    "One easy way to generate an array of values is with the numpy function **linspace** where the first 2 parameters denote the end points of the range and the third value specifies how many points to generate."
   ]
  },
  {
   "cell_type": "code",
   "execution_count": 23,
   "id": "dd1df6b4-b0d1-4151-b5e6-08f465be82cf",
   "metadata": {},
   "outputs": [
    {
     "name": "stdout",
     "output_type": "stream",
     "text": [
      "[0.         0.33069396 0.66138793 0.99208189 1.32277585 1.65346982\n",
      " 1.98416378 2.31485774 2.64555171 2.97624567 3.30693964 3.6376336\n",
      " 3.96832756 4.29902153 4.62971549 4.96040945 5.29110342 5.62179738\n",
      " 5.95249134 6.28318531]\n"
     ]
    }
   ],
   "source": [
    "    X = np.linspace(0, 2*np.pi, num=20)\n",
    "    print(X)"
   ]
  },
  {
   "cell_type": "markdown",
   "id": "c8400a33-2d38-46f9-90b7-e02f04cf0777",
   "metadata": {},
   "source": [
    "Notice that here we've told python to generate 20 (uniformly distributed) points between 0 and $2\\pi$."
   ]
  },
  {
   "cell_type": "markdown",
   "id": "096179c0-1b73-4d50-903b-db547f8a5567",
   "metadata": {},
   "source": [
    "## Plotting\n",
    "\n",
    "The final trick you may want to use is to plot a function over some interval. This is especially handy if you're trying to make sure that the function you coded actually looks something like the function you wanted to test.\n",
    "\n",
    "Here we will first generate 100 (evenly) spaced points as before, then call the function to generate the values at each of those points. We complete the last step by calling the plot function from the matplotlib library."
   ]
  },
  {
   "cell_type": "code",
   "execution_count": 24,
   "id": "9c462794-2c03-4e3b-8767-35173cfc6fc7",
   "metadata": {},
   "outputs": [
    {
     "data": {
      "text/plain": [
       "Text(0.5, 1.0, 'f(x) ')"
      ]
     },
     "execution_count": 24,
     "metadata": {},
     "output_type": "execute_result"
    },
    {
     "data": {
      "image/png": "[encoded data removed]",
      "text/plain": [
       "<Figure size 640x480 with 1 Axes>"
      ]
     },
     "metadata": {},
     "output_type": "display_data"
    }
   ],
   "source": [
    "    X = np.linspace(0, 2*np.pi, num=100)\n",
    "    fX = fcnx(X)\n",
    "    plt.plot(X,fX)\n",
    "    plt.title('f(x) ')"
   ]
  },
  {
   "cell_type": "markdown",
   "id": "37ecf423-ab94-4837-b939-0e41acd95793",
   "metadata": {},
   "source": [
    "## Your turn\n",
    "\n",
    "1. Modify the notebook to work with the function given by:\n",
    "$$\n",
    "x^3 - 6.1x^2 + 3.2x + 1.5, x \\in [0,5] \n",
    "$$\n",
    "\n",
    "2. Plot your results"
   ]
  },
  {
   "cell_type": "markdown",
   "id": "a625b36f-f6b6-494f-949d-adfbb7e7e3b4",
   "metadata": {
    "jp-MarkdownHeadingCollapsed": true
   },
   "source": [
    "## Summary\n",
    "\n",
    "That's it for this homework.  You may however want to play around with the notebook trying out other functions, ranges, etc.\n",
    "\n",
    "Good luck!"
   ]
  }
 ],
 "metadata": {
  "kernelspec": {
   "display_name": "Python 3 (ipykernel)",
   "language": "python",
   "name": "python3"
  },
  "language_info": {
   "codemirror_mode": {
    "name": "ipython",
    "version": 3
   },
   "file_extension": ".py",
   "mimetype": "text/x-python",
   "name": "python",
   "nbconvert_exporter": "python",
   "pygments_lexer": "ipython3",
   "version": "3.11.4"
  }
 },
 "nbformat": 4,
 "nbformat_minor": 5
}
