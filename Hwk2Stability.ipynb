{
 "cells": [
  {
   "cell_type": "markdown",
   "id": "97603487-71f7-4b1b-9b2d-19c628e0ec91",
   "metadata": {
    "tags": []
   },
   "source": [
    "## Math 130 Stability\n",
    "\n",
    "As we discussed in class, roundoff error is a fact of life when computing numerically. \n",
    "\n",
    "As computations proceed these roundoff errors can accumulate and cause many difficulties. As long as the roundoff errors grow linearly with the number of steps, then we can expect that our final results should be reasonable (barring an ill-conditioned problem).\n",
    "\n",
    "This problem demonstrates some of the pitfalls when trying to compute various integrals and some possible alternative formulations to avoid them.\n",
    "\n"
   ]
  },
  {
   "cell_type": "markdown",
   "id": "63366324",
   "metadata": {},
   "source": [
    "### Problem 5 \n",
    "***Suppose we are asked to compute $$y_n = \\int_0^1 \\frac{x^n}{x+10}dx, \\ n =1,2, \\ldots 30$$***"
   ]
  },
  {
   "cell_type": "markdown",
   "id": "be987db0",
   "metadata": {},
   "source": [
    "a) ***Show that*** $$\n",
    "y_n + 10 y_{n-1} = \\frac{1}{n}\n",
    "$$\n",
    "\n",
    "Solution:\n",
    "\n"
   ]
  },
  {
   "cell_type": "markdown",
   "id": "9c127eeb",
   "metadata": {},
   "source": [
    "b) ***Write a code to numerically compute a value for***  $y_0$.\n",
    "\n",
    "Solution:"
   ]
  },
  {
   "cell_type": "code",
   "execution_count": null,
   "id": "e351381c",
   "metadata": {},
   "outputs": [],
   "source": [
    "# Insert your code here"
   ]
  },
  {
   "cell_type": "markdown",
   "id": "1cf02ab6",
   "metadata": {},
   "source": [
    "c) ***Using (a) and (b) propose an algorithm and write a code that computes $y_n, n = 1, 2, \\ldots, 30$. You may not use any other software except for what you write yourself.***"
   ]
  },
  {
   "cell_type": "code",
   "execution_count": null,
   "id": "913df84f",
   "metadata": {},
   "outputs": [],
   "source": [
    "# Setup numpy environment\n",
    "import numpy as np\n",
    "from scipy import io, integrate, linalg, signal\n",
    "from scipy.sparse.linalg import cg, eigs\n",
    "\n",
    "# Save result in y\n",
    "y = np.zeros(31)\n",
    "\n",
    "\n",
    "# ---------------------\n",
    "# Insert your code here\n",
    "\n",
    "\n",
    "\n",
    "# ---------------------\n",
    "\n",
    "y"
   ]
  },
  {
   "cell_type": "markdown",
   "id": "470d7981-6c6e-4d48-ad02-7a2f5bc2b866",
   "metadata": {},
   "source": [
    "Viewing the results by typing the variable is the easiest, but sometimes the output is hard to read and therefore hard to interpret. Let's see how we can make the output look a bit clearer using the python package pandas"
   ]
  },
  {
   "cell_type": "code",
   "execution_count": null,
   "id": "6382ae02-e278-46c4-be87-b4e68864075c",
   "metadata": {},
   "outputs": [],
   "source": [
    "import pandas as pd \n",
    "\n",
    "# Create a data frame using pandas\n",
    "\n",
    "table = np.column_stack((naxis,y))\n",
    "table = pd.DataFrame(table, columns=['n', 'y_n'])\n",
    "table"
   ]
  },
  {
   "cell_type": "markdown",
   "id": "89637783",
   "metadata": {},
   "source": [
    "### Observations\n",
    "\n",
    "The purpose of computing is insight, not numbers (Hamming).\n",
    "List any insights you have after viewing your preliminary results.\n",
    "\n",
    "1.\n",
    "2.\n",
    "3."
   ]
  },
  {
   "cell_type": "markdown",
   "id": "b1170993",
   "metadata": {},
   "source": [
    "(d) ***The true values for the integrals are given in Table 1 of the homework sheet.  For each of the $y_n$, compute the actual and relative errors (where applicable). Analyze and explain your results in terms of what we discussed in class on the stability of algorithms.***\n",
    "\n",
    "**Note**: You could input the values from the table, but for the sake of convenience we'll provide you the code that produced the numbers.\n",
    "\n",
    "Let's compute the actual values of the integrals and check the error. We will introduce methods for numerically computing integrals later in the course. For now, let's just say that the function np.trapz, will numericall evaluate the integral above."
   ]
  },
  {
   "cell_type": "code",
   "execution_count": null,
   "id": "e76b0df2-fbce-4d9b-9689-b2c24e1ab1b0",
   "metadata": {},
   "outputs": [],
   "source": [
    "x = np.linspace(0,1,num=50)\n",
    "yint = np.zeros(31)\n",
    "\n",
    "# Compute the integrals using the Trapezoidal rule\n",
    "for n in range(0,30):\n",
    "    yn = x**n / (x + 10)\n",
    "    yint[n] = np.trapz(yn,x)\n",
    "\n",
    "yint"
   ]
  },
  {
   "cell_type": "markdown",
   "id": "d4ce0b06-4d70-4c93-81e3-59d8b9a9dae2",
   "metadata": {},
   "source": [
    "### Error Analysis\n",
    "\n",
    "To fully understand what is going on, we need to take a look at the error between the algorithm's output and the \"true\" value computed by the np.trapz function."
   ]
  },
  {
   "cell_type": "code",
   "execution_count": null,
   "id": "c036430d",
   "metadata": {},
   "outputs": [],
   "source": [
    "# Compute the absolute error\n",
    "\n",
    "abserr = np.zeros(31)\n",
    "# ---------------------\n",
    "# Insert your code here\n",
    "\n",
    "\n",
    "\n",
    "# ---------------------\n",
    "\n",
    "# Create a table\n",
    "table = np.column_stack((naxis,abserr))\n",
    "table = pd.DataFrame(table, columns=['n', 'abserr'])\n",
    "table"
   ]
  },
  {
   "cell_type": "code",
   "execution_count": null,
   "id": "2d5699cd-4329-4c3d-8d59-2e7fda7b7e29",
   "metadata": {},
   "outputs": [],
   "source": [
    "# Compute the relative error\n",
    "\n",
    "relerr = np.zeros(31)\n",
    "# ---------------------\n",
    "# Insert your code here\n",
    "\n",
    "\n",
    "\n",
    "# ---------------------\n",
    "\n",
    "table = np.column_stack((naxis,relerr))\n",
    "table = pd.DataFrame(table, columns=['n', 'relerr'])\n",
    "table"
   ]
  },
  {
   "cell_type": "markdown",
   "id": "e741f198-e9b9-4a5d-9c1b-4f04fde80a93",
   "metadata": {},
   "source": [
    "e) ***Modify your code so that it can compute more accurate values for the integral (without resorting to numerical integration or any other software). Justify your algorithm, demonstrate why it is more accurate,  and provide all code.***"
   ]
  },
  {
   "cell_type": "markdown",
   "id": "695e4629-6ec1-474a-91b2-7a61abe12837",
   "metadata": {
    "tags": []
   },
   "source": [
    "### Solution"
   ]
  },
  {
   "cell_type": "code",
   "execution_count": null,
   "id": "cb6597a5-be06-4147-9ec3-514ecbe08cdb",
   "metadata": {},
   "outputs": [],
   "source": [
    "# Save new version in y2\n",
    "y2 = np.zeros(31)\n",
    "\n",
    "# ---------------------\n",
    "# Insert your code here\n",
    "\n",
    "\n",
    "\n",
    "# ---------------------\n",
    "\n",
    "y2"
   ]
  },
  {
   "cell_type": "code",
   "execution_count": null,
   "id": "57e4d6d5-9594-41b0-b69e-062d526f7ae7",
   "metadata": {},
   "outputs": [],
   "source": [
    "# Compute the absolte and relative errors again \n",
    "\n",
    "abserr2 = np.zeros(31)\n",
    "relerr2 = np.zeros(31)\n",
    "\n",
    "# ---------------------\n",
    "# Insert your code here\n",
    "\n",
    "\n",
    "\n",
    "# ---------------------\n",
    "\n",
    " \n",
    "table2 = np.column_stack((naxis,abserr2, relerr2))\n",
    "table2 = pd.DataFrame(table, columns=['n', 'abserr2', 'relerr2'])\n",
    "table2"
   ]
  },
  {
   "cell_type": "markdown",
   "id": "94d5c2ae",
   "metadata": {},
   "source": [
    "***Justify your algorithm, demonstrate why it is more accurate,  and provide all code.***\n",
    "\n",
    "Solution."
   ]
  }
 ],
 "metadata": {
  "kernelspec": {
   "display_name": "Python 3 (ipykernel)",
   "language": "python",
   "name": "python3"
  },
  "language_info": {
   "codemirror_mode": {
    "name": "ipython",
    "version": 3
   },
   "file_extension": ".py",
   "mimetype": "text/x-python",
   "name": "python",
   "nbconvert_exporter": "python",
   "pygments_lexer": "ipython3",
   "version": "3.11.5"
  }
 },
 "nbformat": 4,
 "nbformat_minor": 5
}
